{
 "cells": [
  {
   "cell_type": "markdown",
   "id": "83331deb",
   "metadata": {},
   "source": [
    "# First-party domain name length Histogram"
   ]
  },
  {
   "cell_type": "code",
   "execution_count": 20,
   "id": "e84f01d3",
   "metadata": {},
   "outputs": [],
   "source": [
    "import matplotlib.pyplot as plt"
   ]
  },
  {
   "cell_type": "markdown",
   "id": "bf0eced1",
   "metadata": {},
   "source": [
    "We import the short list of the 1500 domain names used in the paper."
   ]
  },
  {
   "cell_type": "code",
   "execution_count": 21,
   "id": "267c0785",
   "metadata": {},
   "outputs": [],
   "source": [
    "list = []\n",
    "with open('./short_list_1500') as f :\n",
    "    for line in f:\n",
    "        list.append(line)"
   ]
  },
  {
   "cell_type": "markdown",
   "id": "ed507193",
   "metadata": {},
   "source": [
    "We count the number of characters of each domain name."
   ]
  },
  {
   "cell_type": "code",
   "execution_count": 22,
   "id": "a0ed5335",
   "metadata": {},
   "outputs": [],
   "source": [
    "def f_len(var):\n",
    "    i = 0\n",
    "    for f in var:\n",
    "        i+=1\n",
    "    return i"
   ]
  },
  {
   "cell_type": "code",
   "execution_count": 23,
   "id": "0f552aa9",
   "metadata": {},
   "outputs": [],
   "source": [
    "size = [0]*1500\n",
    "for i in range(f_len(list)):\n",
    "    #we substract 2 because we don't want to count the \\n\n",
    "    size[i]=f_len(list[i])-2 "
   ]
  },
  {
   "cell_type": "markdown",
   "id": "034077b1",
   "metadata": {},
   "source": [
    "We create the histogram for domain name length."
   ]
  },
  {
   "cell_type": "code",
   "execution_count": 24,
   "id": "4d7f1bf5",
   "metadata": {},
   "outputs": [
    {
     "data": {
      "text/plain": [
       "Text(0, 0.5, 'Frequency')"
      ]
     },
     "execution_count": 24,
     "metadata": {},
     "output_type": "execute_result"
    },
    {
     "data": {
      "image/png": "[encoded data removed]",
      "text/plain": [
       "<Figure size 432x288 with 1 Axes>"
      ]
     },
     "metadata": {
      "needs_background": "light"
     },
     "output_type": "display_data"
    }
   ],
   "source": [
    "bins=[1,5,6,7,8,9,10,11,12,13,14,15,16,17,18,19,20,21,22,23,24,25,26,27,28,29,30,31,32,33,34,36,37,41,42]\n",
    "plt.hist(size, bins=bins, edgecolor='white', density = True)\n",
    "plt.title('Histogram for domain name length')\n",
    "plt.xlabel('First-party domain name length (number of characters)')\n",
    "plt.ylabel('Frequency')"
   ]
  }
 ],
 "metadata": {
  "kernelspec": {
   "display_name": "Python 3",
   "language": "python",
   "name": "python3"
  },
  "language_info": {
   "codemirror_mode": {
    "name": "ipython",
    "version": 3
   },
   "file_extension": ".py",
   "mimetype": "text/x-python",
   "name": "python",
   "nbconvert_exporter": "python",
   "pygments_lexer": "ipython3",
   "version": "3.8.8"
  }
 },
 "nbformat": 4,
 "nbformat_minor": 5
}
