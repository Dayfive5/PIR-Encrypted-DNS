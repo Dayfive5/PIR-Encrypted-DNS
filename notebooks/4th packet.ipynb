{
 "cells": [
  {
   "cell_type": "code",
   "execution_count": 13,
   "id": "8b09d1e8",
   "metadata": {},
   "outputs": [],
   "source": [
    "import json\n",
    "import pandas as pd\n",
    "from pandas import DataFrame\n",
    "import matplotlib.pyplot as plt\n",
    "import glob"
   ]
  },
  {
   "cell_type": "markdown",
   "id": "e065ddf1",
   "metadata": {},
   "source": [
    "\n",
    "# Histogram with one json file\n",
    "\n",
    "We import the file."
   ]
  },
  {
   "cell_type": "code",
   "execution_count": 14,
   "id": "aa140b45",
   "metadata": {},
   "outputs": [],
   "source": [
    "with open('./01-11-18_1.json') as data_file :\n",
    "    data=json.load(data_file)"
   ]
  },
  {
   "cell_type": "markdown",
   "id": "2a412734",
   "metadata": {},
   "source": [
    "We create a dataframe from the file."
   ]
  },
  {
   "cell_type": "code",
   "execution_count": 15,
   "id": "6c8606e2",
   "metadata": {},
   "outputs": [],
   "source": [
    "df=DataFrame(data)"
   ]
  },
  {
   "cell_type": "code",
   "execution_count": 16,
   "id": "967fe36c",
   "metadata": {},
   "outputs": [
    {
     "data": {
      "text/html": [
       "<div>\n",
       "<style scoped>\n",
       "    .dataframe tbody tr th:only-of-type {\n",
       "        vertical-align: middle;\n",
       "    }\n",
       "\n",
       "    .dataframe tbody tr th {\n",
       "        vertical-align: top;\n",
       "    }\n",
       "\n",
       "    .dataframe thead th {\n",
       "        text-align: right;\n",
       "    }\n",
       "</style>\n",
       "<table border=\"1\" class=\"dataframe\">\n",
       "  <thead>\n",
       "    <tr style=\"text-align: right;\">\n",
       "      <th></th>\n",
       "      <th>613.pcap</th>\n",
       "      <th>770.pcap</th>\n",
       "      <th>294.pcap</th>\n",
       "      <th>652.pcap</th>\n",
       "      <th>521.pcap</th>\n",
       "      <th>736.pcap</th>\n",
       "      <th>560.pcap</th>\n",
       "      <th>609.pcap</th>\n",
       "      <th>883.pcap</th>\n",
       "      <th>356.pcap</th>\n",
       "      <th>...</th>\n",
       "      <th>584.pcap</th>\n",
       "      <th>807.pcap</th>\n",
       "      <th>42.pcap</th>\n",
       "      <th>558.pcap</th>\n",
       "      <th>110.pcap</th>\n",
       "      <th>486.pcap</th>\n",
       "      <th>1.pcap</th>\n",
       "      <th>461.pcap</th>\n",
       "      <th>873.pcap</th>\n",
       "      <th>703.pcap</th>\n",
       "    </tr>\n",
       "  </thead>\n",
       "  <tbody>\n",
       "    <tr>\n",
       "      <th>received</th>\n",
       "      <td>[64, 33, 273, 33, 173, 33, 168, 33, 163, 33]</td>\n",
       "      <td>[]</td>\n",
       "      <td>[64, 33, 267, 33, 217, 33, 204, 33, 206, 33, 2...</td>\n",
       "      <td>[64, 33, 267, 33, 135, 33, 286, 33, 183, 33, 2...</td>\n",
       "      <td>[64, 33, 271, 33, 156, 33, 216, 33, 208, 33, 1...</td>\n",
       "      <td>[64, 33, 275, 33, 258, 33, 135, 33, 181, 33, 1...</td>\n",
       "      <td>[64, 33, 274, 33, 234, 33, 161, 33, 313, 33, 1...</td>\n",
       "      <td>[64, 33, 338, 33, 206, 33]</td>\n",
       "      <td>[64, 33, 276, 33, 161, 33, 216, 33, 182, 33, 1...</td>\n",
       "      <td>[64, 33, 330, 33, 178, 33, 182, 33, 139, 33, 1...</td>\n",
       "      <td>...</td>\n",
       "      <td>[64, 33, 327, 33]</td>\n",
       "      <td>[]</td>\n",
       "      <td>[64, 33, 295, 33, 167, 33, 184, 33, 177, 33, 2...</td>\n",
       "      <td>[]</td>\n",
       "      <td>[64, 33, 270, 33, 238, 33, 204, 33, 218, 33, 2...</td>\n",
       "      <td>[64, 33, 300, 33, 209, 33, 229, 33, 181, 33, 2...</td>\n",
       "      <td>[64, 33, 276, 33, 181, 33, 254, 33, 211, 33, 1...</td>\n",
       "      <td>[64, 33, 265, 33, 207, 33, 205, 33, 239, 33, 2...</td>\n",
       "      <td>[64, 33, 277, 33, 204, 33, 196, 33, 201, 33, 2...</td>\n",
       "      <td>[]</td>\n",
       "    </tr>\n",
       "    <tr>\n",
       "      <th>order</th>\n",
       "      <td>[-1, 1, 1, 1, 1, 1, -1, -1, -1, 1, 1, 1, -1, -...</td>\n",
       "      <td>[]</td>\n",
       "      <td>[-1, 1, 1, 1, 1, 1, -1, -1, -1, 1, 1, 1, -1, -...</td>\n",
       "      <td>[1, 1, 1, 1, -1, 1, -1, -1, -1, 1, 1, 1, -1, -...</td>\n",
       "      <td>[-1, 1, 1, 1, 1, 1, -1, -1, -1, 1, 1, 1, -1, -...</td>\n",
       "      <td>[1, 1, 1, 1, -1, 1, -1, -1, -1, 1, 1, 1, 1, 1,...</td>\n",
       "      <td>[-1, 1, 1, 1, 1, 1, -1, -1, -1, 1, 1, 1, -1, -...</td>\n",
       "      <td>[1, 1, 1, 1, -1, 1, -1, -1, -1, 1, 1, 1, -1, -1]</td>\n",
       "      <td>[1, 1, 1, 1, -1, 1, -1, -1, -1, 1, 1, 1, -1, -...</td>\n",
       "      <td>[1, -1, 1, 1, 1, 1, -1, -1, -1, 1, 1, 1, -1, -...</td>\n",
       "      <td>...</td>\n",
       "      <td>[1, -1, 1, 1, 1, 1, -1, -1, -1]</td>\n",
       "      <td>[]</td>\n",
       "      <td>[-1, 1, 1, 1, 1, 1, -1, -1, -1, 1, 1, 1, 1, 1,...</td>\n",
       "      <td>[]</td>\n",
       "      <td>[1, -1, 1, 1, 1, 1, -1, -1, -1, 1, 1, 1, -1, -...</td>\n",
       "      <td>[-1, 1, 1, 1, 1, 1, -1, -1, -1, 1, 1, 1, -1, -...</td>\n",
       "      <td>[1, -1, 1, 1, 1, 1, -1, -1, -1, 1, 1, 1, -1, -...</td>\n",
       "      <td>[1, -1, 1, 1, 1, 1, -1, -1, -1, 1, 1, 1, -1, -...</td>\n",
       "      <td>[1, 1, -1, 1, 1, 1, -1, -1, -1, 1, 1, 1, 1, 1,...</td>\n",
       "      <td>[]</td>\n",
       "    </tr>\n",
       "    <tr>\n",
       "      <th>sent</th>\n",
       "      <td>[88, 94, 67, 33, 33, 43, 71, 33, 43, 73, 33, 4...</td>\n",
       "      <td>[]</td>\n",
       "      <td>[88, 94, 62, 33, 33, 43, 66, 33, 43, 71, 33, 4...</td>\n",
       "      <td>[88, 94, 61, 33, 33, 43, 60, 33, 43, 66, 33, 4...</td>\n",
       "      <td>[88, 94, 64, 33, 33, 43, 68, 33, 43, 75, 33, 4...</td>\n",
       "      <td>[88, 94, 69, 33, 33, 43, 71, 33, 43, 70, 33, 4...</td>\n",
       "      <td>[88, 94, 65, 33, 33, 43, 69, 33, 43, 73, 33, 4...</td>\n",
       "      <td>[88, 94, 67, 33, 33, 43, 72, 33]</td>\n",
       "      <td>[88, 94, 69, 33, 33, 43, 73, 33, 43, 71, 33, 4...</td>\n",
       "      <td>[88, 94, 60, 33, 33, 43, 64, 33, 43, 71, 33, 4...</td>\n",
       "      <td>...</td>\n",
       "      <td>[88, 94, 76, 33, 33]</td>\n",
       "      <td>[]</td>\n",
       "      <td>[88, 94, 56, 33, 33, 43, 62, 33, 43, 61, 33, 4...</td>\n",
       "      <td>[]</td>\n",
       "      <td>[88, 94, 33, 64, 33, 43, 68, 33, 43, 71, 33, 4...</td>\n",
       "      <td>[88, 94, 62, 33, 33, 43, 66, 33, 43, 68, 33, 4...</td>\n",
       "      <td>[88, 94, 70, 33, 33, 40, 70, 33, 43, 72, 33, 4...</td>\n",
       "      <td>[88, 94, 60, 33, 33, 43, 64, 33, 43, 69, 33, 4...</td>\n",
       "      <td>[88, 94, 69, 33, 33, 43, 71, 33, 43, 70, 33, 4...</td>\n",
       "      <td>[]</td>\n",
       "    </tr>\n",
       "  </tbody>\n",
       "</table>\n",
       "<p>3 rows × 889 columns</p>\n",
       "</div>"
      ],
      "text/plain": [
       "                                                   613.pcap 770.pcap  \\\n",
       "received       [64, 33, 273, 33, 173, 33, 168, 33, 163, 33]       []   \n",
       "order     [-1, 1, 1, 1, 1, 1, -1, -1, -1, 1, 1, 1, -1, -...       []   \n",
       "sent      [88, 94, 67, 33, 33, 43, 71, 33, 43, 73, 33, 4...       []   \n",
       "\n",
       "                                                   294.pcap  \\\n",
       "received  [64, 33, 267, 33, 217, 33, 204, 33, 206, 33, 2...   \n",
       "order     [-1, 1, 1, 1, 1, 1, -1, -1, -1, 1, 1, 1, -1, -...   \n",
       "sent      [88, 94, 62, 33, 33, 43, 66, 33, 43, 71, 33, 4...   \n",
       "\n",
       "                                                   652.pcap  \\\n",
       "received  [64, 33, 267, 33, 135, 33, 286, 33, 183, 33, 2...   \n",
       "order     [1, 1, 1, 1, -1, 1, -1, -1, -1, 1, 1, 1, -1, -...   \n",
       "sent      [88, 94, 61, 33, 33, 43, 60, 33, 43, 66, 33, 4...   \n",
       "\n",
       "                                                   521.pcap  \\\n",
       "received  [64, 33, 271, 33, 156, 33, 216, 33, 208, 33, 1...   \n",
       "order     [-1, 1, 1, 1, 1, 1, -1, -1, -1, 1, 1, 1, -1, -...   \n",
       "sent      [88, 94, 64, 33, 33, 43, 68, 33, 43, 75, 33, 4...   \n",
       "\n",
       "                                                   736.pcap  \\\n",
       "received  [64, 33, 275, 33, 258, 33, 135, 33, 181, 33, 1...   \n",
       "order     [1, 1, 1, 1, -1, 1, -1, -1, -1, 1, 1, 1, 1, 1,...   \n",
       "sent      [88, 94, 69, 33, 33, 43, 71, 33, 43, 70, 33, 4...   \n",
       "\n",
       "                                                   560.pcap  \\\n",
       "received  [64, 33, 274, 33, 234, 33, 161, 33, 313, 33, 1...   \n",
       "order     [-1, 1, 1, 1, 1, 1, -1, -1, -1, 1, 1, 1, -1, -...   \n",
       "sent      [88, 94, 65, 33, 33, 43, 69, 33, 43, 73, 33, 4...   \n",
       "\n",
       "                                                  609.pcap  \\\n",
       "received                        [64, 33, 338, 33, 206, 33]   \n",
       "order     [1, 1, 1, 1, -1, 1, -1, -1, -1, 1, 1, 1, -1, -1]   \n",
       "sent                      [88, 94, 67, 33, 33, 43, 72, 33]   \n",
       "\n",
       "                                                   883.pcap  \\\n",
       "received  [64, 33, 276, 33, 161, 33, 216, 33, 182, 33, 1...   \n",
       "order     [1, 1, 1, 1, -1, 1, -1, -1, -1, 1, 1, 1, -1, -...   \n",
       "sent      [88, 94, 69, 33, 33, 43, 73, 33, 43, 71, 33, 4...   \n",
       "\n",
       "                                                   356.pcap  ...  \\\n",
       "received  [64, 33, 330, 33, 178, 33, 182, 33, 139, 33, 1...  ...   \n",
       "order     [1, -1, 1, 1, 1, 1, -1, -1, -1, 1, 1, 1, -1, -...  ...   \n",
       "sent      [88, 94, 60, 33, 33, 43, 64, 33, 43, 71, 33, 4...  ...   \n",
       "\n",
       "                                 584.pcap 807.pcap  \\\n",
       "received                [64, 33, 327, 33]       []   \n",
       "order     [1, -1, 1, 1, 1, 1, -1, -1, -1]       []   \n",
       "sent                 [88, 94, 76, 33, 33]       []   \n",
       "\n",
       "                                                    42.pcap 558.pcap  \\\n",
       "received  [64, 33, 295, 33, 167, 33, 184, 33, 177, 33, 2...       []   \n",
       "order     [-1, 1, 1, 1, 1, 1, -1, -1, -1, 1, 1, 1, 1, 1,...       []   \n",
       "sent      [88, 94, 56, 33, 33, 43, 62, 33, 43, 61, 33, 4...       []   \n",
       "\n",
       "                                                   110.pcap  \\\n",
       "received  [64, 33, 270, 33, 238, 33, 204, 33, 218, 33, 2...   \n",
       "order     [1, -1, 1, 1, 1, 1, -1, -1, -1, 1, 1, 1, -1, -...   \n",
       "sent      [88, 94, 33, 64, 33, 43, 68, 33, 43, 71, 33, 4...   \n",
       "\n",
       "                                                   486.pcap  \\\n",
       "received  [64, 33, 300, 33, 209, 33, 229, 33, 181, 33, 2...   \n",
       "order     [-1, 1, 1, 1, 1, 1, -1, -1, -1, 1, 1, 1, -1, -...   \n",
       "sent      [88, 94, 62, 33, 33, 43, 66, 33, 43, 68, 33, 4...   \n",
       "\n",
       "                                                     1.pcap  \\\n",
       "received  [64, 33, 276, 33, 181, 33, 254, 33, 211, 33, 1...   \n",
       "order     [1, -1, 1, 1, 1, 1, -1, -1, -1, 1, 1, 1, -1, -...   \n",
       "sent      [88, 94, 70, 33, 33, 40, 70, 33, 43, 72, 33, 4...   \n",
       "\n",
       "                                                   461.pcap  \\\n",
       "received  [64, 33, 265, 33, 207, 33, 205, 33, 239, 33, 2...   \n",
       "order     [1, -1, 1, 1, 1, 1, -1, -1, -1, 1, 1, 1, -1, -...   \n",
       "sent      [88, 94, 60, 33, 33, 43, 64, 33, 43, 69, 33, 4...   \n",
       "\n",
       "                                                   873.pcap 703.pcap  \n",
       "received  [64, 33, 277, 33, 204, 33, 196, 33, 201, 33, 2...       []  \n",
       "order     [1, 1, -1, 1, 1, 1, -1, -1, -1, 1, 1, 1, 1, 1,...       []  \n",
       "sent      [88, 94, 69, 33, 33, 43, 71, 33, 43, 70, 33, 4...       []  \n",
       "\n",
       "[3 rows x 889 columns]"
      ]
     },
     "execution_count": 16,
     "metadata": {},
     "output_type": "execute_result"
    }
   ],
   "source": [
    "df"
   ]
  },
  {
   "cell_type": "markdown",
   "id": "ac79fd19",
   "metadata": {},
   "source": [
    "We select the 4th outgoing packets (because the incoming records cannot contain a lookup)."
   ]
  },
  {
   "cell_type": "code",
   "execution_count": 71,
   "id": "d5c8dc4f",
   "metadata": {},
   "outputs": [],
   "source": [
    "size = [0]*889\n",
    "\n",
    "for i in range(889):\n",
    "    if len(data[f'{i}.pcap']['sent'])>=i :\n",
    "        size[i] = data[f'{i}.pcap']['sent'][4]"
   ]
  },
  {
   "cell_type": "markdown",
   "id": "885a284e",
   "metadata": {},
   "source": [
    "We create the histogram."
   ]
  },
  {
   "cell_type": "code",
   "execution_count": 72,
   "id": "45e912cb",
   "metadata": {},
   "outputs": [
    {
     "data": {
      "text/plain": [
       "Text(0, 0.5, 'Frequency')"
      ]
     },
     "execution_count": 72,
     "metadata": {},
     "output_type": "execute_result"
    },
    {
     "data": {
      "image/png": "[encoded data removed]",
      "text/plain": [
       "<Figure size 432x288 with 1 Axes>"
      ]
     },
     "metadata": {
      "needs_background": "light"
     },
     "output_type": "display_data"
    }
   ],
   "source": [
    "#we discard all the lengths that correspond to the http control messages (ex : 33)\n",
    "bins = [55,56,57,58,59,60,61,62,63,64,65,66,67,68,69,70,71,72,73,74,75,76,77,78,79,80,81,82,83,84,85,86,87,88,89,90,91,92,93]\n",
    "plt.hist(size, bins=bins, edgecolor='white', density = True)\n",
    "plt.title('Histogram for the fourth TLS record length in the LOC1 dataset for the ./01-11-18_1.json file ')\n",
    "plt.xlabel('Fourth TLS record size (bytes)')\n",
    "plt.ylabel('Frequency')\n"
   ]
  },
  {
   "cell_type": "markdown",
   "id": "b5c90899",
   "metadata": {},
   "source": [
    "Most of the received packets are http control messages (length=33). We can't have a proper histogram with only one json file.\n",
    "Now let's try to combine all the json files from LOC1 to do our histogram."
   ]
  },
  {
   "cell_type": "markdown",
   "id": "2bc57aac",
   "metadata": {},
   "source": [
    "# Histogram with all the json files\n",
    "\n",
    "We combine all the json files in one."
   ]
  },
  {
   "cell_type": "code",
   "execution_count": 73,
   "id": "c3e71a79",
   "metadata": {},
   "outputs": [],
   "source": [
    "#read_files = glob.glob(\"*.json\")\n",
    "#output_list = []\n",
    "\n",
    "#for f in read_files:\n",
    "#    with open(f, \"rb\") as infile:\n",
    "#        output_list.append(json.load(infile))\n",
    "\n",
    "#with open(\"merged_file.json\", \"w\") as outfile:\n",
    "#    json.dump(output_list, outfile)"
   ]
  },
  {
   "cell_type": "code",
   "execution_count": 74,
   "id": "2e232be7",
   "metadata": {},
   "outputs": [],
   "source": [
    "#with open('merged_file.json') as data_file2 :\n",
    "#    data2=json.load(data_file2)"
   ]
  },
  {
   "cell_type": "markdown",
   "id": "2741c578",
   "metadata": {},
   "source": [
    "My laptop isn't strong enough to process that much data and shut down when I try this code.\n",
    "I will then try to combine the json files from a specific day to do a histogram."
   ]
  },
  {
   "cell_type": "markdown",
   "id": "1a219d7e",
   "metadata": {},
   "source": [
    "\n",
    "# Histogram with all the files from the 01/11/18\n",
    "\n",
    "We combine all the json files in one."
   ]
  },
  {
   "cell_type": "code",
   "execution_count": 75,
   "id": "261200bc",
   "metadata": {},
   "outputs": [],
   "source": [
    "output_list = []\n",
    "    \n",
    "with open('./01-11-18_1.json') as data_file3 :\n",
    "    output_list.append(json.load(data_file3))\n",
    "    \n",
    "with open('./01-11-18_1_2.json') as data_file4 :\n",
    "    output_list.append(json.load(data_file4))\n",
    "    \n",
    "with open('./01-11-18_2.json') as data_file2 :\n",
    "    output_list.append(json.load(data_file2))\n",
    "    \n",
    "with open('./01-11-18_2_2.json') as data_file5 :\n",
    "    output_list.append(json.load(data_file5))"
   ]
  },
  {
   "cell_type": "code",
   "execution_count": 76,
   "id": "3f1765a9",
   "metadata": {},
   "outputs": [],
   "source": [
    "with open(\"GLOBAL.json\", \"w\") as outfile:\n",
    "    json.dump(output_list, outfile)\n",
    "    \n",
    "with open('GLOBAL.json') as data_filee :\n",
    "    datab = json.load(data_filee)"
   ]
  },
  {
   "cell_type": "markdown",
   "id": "fec58175",
   "metadata": {},
   "source": [
    "We create a dataframe from it."
   ]
  },
  {
   "cell_type": "code",
   "execution_count": 84,
   "id": "ad435e28",
   "metadata": {},
   "outputs": [],
   "source": [
    "dfb=DataFrame(datab)"
   ]
  },
  {
   "cell_type": "code",
   "execution_count": 85,
   "id": "022acee5",
   "metadata": {},
   "outputs": [
    {
     "data": {
      "text/html": [
       "<div>\n",
       "<style scoped>\n",
       "    .dataframe tbody tr th:only-of-type {\n",
       "        vertical-align: middle;\n",
       "    }\n",
       "\n",
       "    .dataframe tbody tr th {\n",
       "        vertical-align: top;\n",
       "    }\n",
       "\n",
       "    .dataframe thead th {\n",
       "        text-align: right;\n",
       "    }\n",
       "</style>\n",
       "<table border=\"1\" class=\"dataframe\">\n",
       "  <thead>\n",
       "    <tr style=\"text-align: right;\">\n",
       "      <th></th>\n",
       "      <th>613.pcap</th>\n",
       "      <th>770.pcap</th>\n",
       "      <th>294.pcap</th>\n",
       "      <th>652.pcap</th>\n",
       "      <th>521.pcap</th>\n",
       "      <th>736.pcap</th>\n",
       "      <th>560.pcap</th>\n",
       "      <th>609.pcap</th>\n",
       "      <th>883.pcap</th>\n",
       "      <th>356.pcap</th>\n",
       "      <th>...</th>\n",
       "      <th>1178.pcap</th>\n",
       "      <th>956.pcap</th>\n",
       "      <th>1067.pcap</th>\n",
       "      <th>925.pcap</th>\n",
       "      <th>1132.pcap</th>\n",
       "      <th>1072.pcap</th>\n",
       "      <th>1007.pcap</th>\n",
       "      <th>989.pcap</th>\n",
       "      <th>1062.pcap</th>\n",
       "      <th>902.pcap</th>\n",
       "    </tr>\n",
       "  </thead>\n",
       "  <tbody>\n",
       "    <tr>\n",
       "      <th>0</th>\n",
       "      <td>{'received': [64, 33, 273, 33, 173, 33, 168, 3...</td>\n",
       "      <td>{'received': [], 'order': [], 'sent': []}</td>\n",
       "      <td>{'received': [64, 33, 267, 33, 217, 33, 204, 3...</td>\n",
       "      <td>{'received': [64, 33, 267, 33, 135, 33, 286, 3...</td>\n",
       "      <td>{'received': [64, 33, 271, 33, 156, 33, 216, 3...</td>\n",
       "      <td>{'received': [64, 33, 275, 33, 258, 33, 135, 3...</td>\n",
       "      <td>{'received': [64, 33, 274, 33, 234, 33, 161, 3...</td>\n",
       "      <td>{'received': [64, 33, 338, 33, 206, 33], 'orde...</td>\n",
       "      <td>{'received': [64, 33, 276, 33, 161, 33, 216, 3...</td>\n",
       "      <td>{'received': [64, 33, 330, 33, 178, 33, 182, 3...</td>\n",
       "      <td>...</td>\n",
       "      <td>NaN</td>\n",
       "      <td>NaN</td>\n",
       "      <td>NaN</td>\n",
       "      <td>NaN</td>\n",
       "      <td>NaN</td>\n",
       "      <td>NaN</td>\n",
       "      <td>NaN</td>\n",
       "      <td>NaN</td>\n",
       "      <td>NaN</td>\n",
       "      <td>NaN</td>\n",
       "    </tr>\n",
       "    <tr>\n",
       "      <th>1</th>\n",
       "      <td>{'received': [64, 33, 272, 33, 173, 33, 163, 3...</td>\n",
       "      <td>{'received': [64, 33, 333, 33, 194, 33, 161, 3...</td>\n",
       "      <td>{'received': [64, 33, 267, 33], 'order': [1, 1...</td>\n",
       "      <td>{'received': [64, 33, 267, 33, 135, 33, 252, 3...</td>\n",
       "      <td>{'received': [64, 33, 271, 33, 156, 33, 216, 3...</td>\n",
       "      <td>{'received': [64, 33, 275, 33, 204, 33, 235, 3...</td>\n",
       "      <td>{'received': [64, 33, 272, 33, 234, 33, 170, 3...</td>\n",
       "      <td>{'received': [], 'order': [], 'sent': []}</td>\n",
       "      <td>{'received': [64, 33, 276, 33, 162, 33, 204, 3...</td>\n",
       "      <td>{'received': [], 'order': [], 'sent': []}</td>\n",
       "      <td>...</td>\n",
       "      <td>{'received': [64, 33, 277, 33, 267, 33, 233, 3...</td>\n",
       "      <td>{'received': [64, 33, 270, 33, 218, 33, 227, 3...</td>\n",
       "      <td>{'received': [64, 33, 274, 33, 222, 33, 200, 3...</td>\n",
       "      <td>{'received': [64, 33, 276, 33, 204, 33, 178, 3...</td>\n",
       "      <td>{'received': [64, 33, 270, 33], 'order': [1, 1...</td>\n",
       "      <td>{'received': [64, 33, 265, 33, 204, 33, 193, 3...</td>\n",
       "      <td>{'received': [64, 33, 269, 33, 178, 33, 203, 3...</td>\n",
       "      <td>{'received': [64, 33, 306, 33, 297, 33, 216, 3...</td>\n",
       "      <td>{'received': [64, 33, 278, 33, 161, 33, 153, 3...</td>\n",
       "      <td>{'received': [64, 33, 275, 33], 'order': [-1, ...</td>\n",
       "    </tr>\n",
       "    <tr>\n",
       "      <th>2</th>\n",
       "      <td>{'received': [64, 33, 273, 33, 173, 33, 168, 3...</td>\n",
       "      <td>{'received': [64, 33, 333, 33], 'order': [1, 1...</td>\n",
       "      <td>{'received': [64, 33, 268, 33, 217, 33, 182, 3...</td>\n",
       "      <td>{'received': [64, 33, 267, 33, 135, 33, 253, 3...</td>\n",
       "      <td>{'received': [64, 33, 272, 33, 156, 33, 216, 3...</td>\n",
       "      <td>{'received': [64, 33, 275, 33, 205, 33, 236, 3...</td>\n",
       "      <td>{'received': [64, 33, 325, 33, 164, 33, 234, 3...</td>\n",
       "      <td>{'received': [64, 33, 338, 33, 206, 33], 'orde...</td>\n",
       "      <td>{'received': [], 'order': [], 'sent': []}</td>\n",
       "      <td>{'received': [], 'order': [], 'sent': []}</td>\n",
       "      <td>...</td>\n",
       "      <td>NaN</td>\n",
       "      <td>NaN</td>\n",
       "      <td>NaN</td>\n",
       "      <td>NaN</td>\n",
       "      <td>NaN</td>\n",
       "      <td>NaN</td>\n",
       "      <td>NaN</td>\n",
       "      <td>NaN</td>\n",
       "      <td>NaN</td>\n",
       "      <td>NaN</td>\n",
       "    </tr>\n",
       "    <tr>\n",
       "      <th>3</th>\n",
       "      <td>{'received': [64, 33, 273, 33, 173, 33, 145, 3...</td>\n",
       "      <td>{'received': [64, 33, 333, 33], 'order': [-1, ...</td>\n",
       "      <td>{'received': [64, 33, 268, 33, 217, 33, 181, 3...</td>\n",
       "      <td>{'received': [64, 33, 328, 33, 229, 33, 158, 3...</td>\n",
       "      <td>{'received': [64, 33, 282, 33, 205, 33, 211, 3...</td>\n",
       "      <td>{'received': [64, 33, 275, 33, 181, 33, 144, 3...</td>\n",
       "      <td>{'received': [64, 33, 273, 33, 234, 33, 138, 3...</td>\n",
       "      <td>{'received': [64, 33, 333, 33, 182, 33, 151, 3...</td>\n",
       "      <td>{'received': [64, 33, 276, 33, 161, 33, 204, 3...</td>\n",
       "      <td>{'received': [64, 33, 330, 33, 177, 33, 139, 3...</td>\n",
       "      <td>...</td>\n",
       "      <td>{'received': [], 'order': [], 'sent': []}</td>\n",
       "      <td>{'received': [64, 33, 271, 33, 195, 33, 250, 3...</td>\n",
       "      <td>{'received': [64, 33, 275, 33, 245, 33, 139, 3...</td>\n",
       "      <td>{'received': [64, 33, 276, 33, 204, 33, 140, 3...</td>\n",
       "      <td>{'received': [64, 33, 64, 303, 33, 139, 33, 23...</td>\n",
       "      <td>{'received': [64, 33, 265, 33, 204, 33, 193, 3...</td>\n",
       "      <td>{'received': [64, 33, 269, 33, 179, 33, 204, 3...</td>\n",
       "      <td>{'received': [64, 33, 306, 33, 274, 33, 216, 3...</td>\n",
       "      <td>{'received': [64, 33, 280, 33, 204, 33, 326, 3...</td>\n",
       "      <td>{'received': [64, 33, 275, 33], 'order': [1, -...</td>\n",
       "    </tr>\n",
       "  </tbody>\n",
       "</table>\n",
       "<p>4 rows × 1397 columns</p>\n",
       "</div>"
      ],
      "text/plain": [
       "                                            613.pcap  \\\n",
       "0  {'received': [64, 33, 273, 33, 173, 33, 168, 3...   \n",
       "1  {'received': [64, 33, 272, 33, 173, 33, 163, 3...   \n",
       "2  {'received': [64, 33, 273, 33, 173, 33, 168, 3...   \n",
       "3  {'received': [64, 33, 273, 33, 173, 33, 145, 3...   \n",
       "\n",
       "                                            770.pcap  \\\n",
       "0          {'received': [], 'order': [], 'sent': []}   \n",
       "1  {'received': [64, 33, 333, 33, 194, 33, 161, 3...   \n",
       "2  {'received': [64, 33, 333, 33], 'order': [1, 1...   \n",
       "3  {'received': [64, 33, 333, 33], 'order': [-1, ...   \n",
       "\n",
       "                                            294.pcap  \\\n",
       "0  {'received': [64, 33, 267, 33, 217, 33, 204, 3...   \n",
       "1  {'received': [64, 33, 267, 33], 'order': [1, 1...   \n",
       "2  {'received': [64, 33, 268, 33, 217, 33, 182, 3...   \n",
       "3  {'received': [64, 33, 268, 33, 217, 33, 181, 3...   \n",
       "\n",
       "                                            652.pcap  \\\n",
       "0  {'received': [64, 33, 267, 33, 135, 33, 286, 3...   \n",
       "1  {'received': [64, 33, 267, 33, 135, 33, 252, 3...   \n",
       "2  {'received': [64, 33, 267, 33, 135, 33, 253, 3...   \n",
       "3  {'received': [64, 33, 328, 33, 229, 33, 158, 3...   \n",
       "\n",
       "                                            521.pcap  \\\n",
       "0  {'received': [64, 33, 271, 33, 156, 33, 216, 3...   \n",
       "1  {'received': [64, 33, 271, 33, 156, 33, 216, 3...   \n",
       "2  {'received': [64, 33, 272, 33, 156, 33, 216, 3...   \n",
       "3  {'received': [64, 33, 282, 33, 205, 33, 211, 3...   \n",
       "\n",
       "                                            736.pcap  \\\n",
       "0  {'received': [64, 33, 275, 33, 258, 33, 135, 3...   \n",
       "1  {'received': [64, 33, 275, 33, 204, 33, 235, 3...   \n",
       "2  {'received': [64, 33, 275, 33, 205, 33, 236, 3...   \n",
       "3  {'received': [64, 33, 275, 33, 181, 33, 144, 3...   \n",
       "\n",
       "                                            560.pcap  \\\n",
       "0  {'received': [64, 33, 274, 33, 234, 33, 161, 3...   \n",
       "1  {'received': [64, 33, 272, 33, 234, 33, 170, 3...   \n",
       "2  {'received': [64, 33, 325, 33, 164, 33, 234, 3...   \n",
       "3  {'received': [64, 33, 273, 33, 234, 33, 138, 3...   \n",
       "\n",
       "                                            609.pcap  \\\n",
       "0  {'received': [64, 33, 338, 33, 206, 33], 'orde...   \n",
       "1          {'received': [], 'order': [], 'sent': []}   \n",
       "2  {'received': [64, 33, 338, 33, 206, 33], 'orde...   \n",
       "3  {'received': [64, 33, 333, 33, 182, 33, 151, 3...   \n",
       "\n",
       "                                            883.pcap  \\\n",
       "0  {'received': [64, 33, 276, 33, 161, 33, 216, 3...   \n",
       "1  {'received': [64, 33, 276, 33, 162, 33, 204, 3...   \n",
       "2          {'received': [], 'order': [], 'sent': []}   \n",
       "3  {'received': [64, 33, 276, 33, 161, 33, 204, 3...   \n",
       "\n",
       "                                            356.pcap  ...  \\\n",
       "0  {'received': [64, 33, 330, 33, 178, 33, 182, 3...  ...   \n",
       "1          {'received': [], 'order': [], 'sent': []}  ...   \n",
       "2          {'received': [], 'order': [], 'sent': []}  ...   \n",
       "3  {'received': [64, 33, 330, 33, 177, 33, 139, 3...  ...   \n",
       "\n",
       "                                           1178.pcap  \\\n",
       "0                                                NaN   \n",
       "1  {'received': [64, 33, 277, 33, 267, 33, 233, 3...   \n",
       "2                                                NaN   \n",
       "3          {'received': [], 'order': [], 'sent': []}   \n",
       "\n",
       "                                            956.pcap  \\\n",
       "0                                                NaN   \n",
       "1  {'received': [64, 33, 270, 33, 218, 33, 227, 3...   \n",
       "2                                                NaN   \n",
       "3  {'received': [64, 33, 271, 33, 195, 33, 250, 3...   \n",
       "\n",
       "                                           1067.pcap  \\\n",
       "0                                                NaN   \n",
       "1  {'received': [64, 33, 274, 33, 222, 33, 200, 3...   \n",
       "2                                                NaN   \n",
       "3  {'received': [64, 33, 275, 33, 245, 33, 139, 3...   \n",
       "\n",
       "                                            925.pcap  \\\n",
       "0                                                NaN   \n",
       "1  {'received': [64, 33, 276, 33, 204, 33, 178, 3...   \n",
       "2                                                NaN   \n",
       "3  {'received': [64, 33, 276, 33, 204, 33, 140, 3...   \n",
       "\n",
       "                                           1132.pcap  \\\n",
       "0                                                NaN   \n",
       "1  {'received': [64, 33, 270, 33], 'order': [1, 1...   \n",
       "2                                                NaN   \n",
       "3  {'received': [64, 33, 64, 303, 33, 139, 33, 23...   \n",
       "\n",
       "                                           1072.pcap  \\\n",
       "0                                                NaN   \n",
       "1  {'received': [64, 33, 265, 33, 204, 33, 193, 3...   \n",
       "2                                                NaN   \n",
       "3  {'received': [64, 33, 265, 33, 204, 33, 193, 3...   \n",
       "\n",
       "                                           1007.pcap  \\\n",
       "0                                                NaN   \n",
       "1  {'received': [64, 33, 269, 33, 178, 33, 203, 3...   \n",
       "2                                                NaN   \n",
       "3  {'received': [64, 33, 269, 33, 179, 33, 204, 3...   \n",
       "\n",
       "                                            989.pcap  \\\n",
       "0                                                NaN   \n",
       "1  {'received': [64, 33, 306, 33, 297, 33, 216, 3...   \n",
       "2                                                NaN   \n",
       "3  {'received': [64, 33, 306, 33, 274, 33, 216, 3...   \n",
       "\n",
       "                                           1062.pcap  \\\n",
       "0                                                NaN   \n",
       "1  {'received': [64, 33, 278, 33, 161, 33, 153, 3...   \n",
       "2                                                NaN   \n",
       "3  {'received': [64, 33, 280, 33, 204, 33, 326, 3...   \n",
       "\n",
       "                                            902.pcap  \n",
       "0                                                NaN  \n",
       "1  {'received': [64, 33, 275, 33], 'order': [-1, ...  \n",
       "2                                                NaN  \n",
       "3  {'received': [64, 33, 275, 33], 'order': [1, -...  \n",
       "\n",
       "[4 rows x 1397 columns]"
      ]
     },
     "execution_count": 85,
     "metadata": {},
     "output_type": "execute_result"
    }
   ],
   "source": [
    "dfb"
   ]
  },
  {
   "cell_type": "markdown",
   "id": "0c630072",
   "metadata": {},
   "source": [
    "Here's an exemple of the way to access the data."
   ]
  },
  {
   "cell_type": "code",
   "execution_count": 82,
   "id": "6364de27",
   "metadata": {},
   "outputs": [
    {
     "data": {
      "text/plain": [
       "67"
      ]
     },
     "execution_count": 82,
     "metadata": {},
     "output_type": "execute_result"
    }
   ],
   "source": [
    "datab[0]['613.pcap']['sent'][2]"
   ]
  },
  {
   "cell_type": "markdown",
   "id": "3005e9d3",
   "metadata": {},
   "source": [
    "We want to compute the mean of the 4th outgoing packets lengths for a pcap.\n",
    "We store these values in dataNotNone"
   ]
  },
  {
   "cell_type": "code",
   "execution_count": 125,
   "id": "55071ef2",
   "metadata": {
    "scrolled": true
   },
   "outputs": [],
   "source": [
    "#we create a new list\n",
    "dataNotNone = [0]*1397\n",
    "\n",
    "#we check that the value of the sent is not none\n",
    "for i in range(888):\n",
    "    #if none of them is None\n",
    "    if (len(datab[0][f'{i}.pcap']['sent']) > 4) and (len(datab[1][f'{i}.pcap']['sent']) > 4) and (len(datab[2][f'{i}.pcap']['sent']) > 4) and (len(datab[3][f'{i}.pcap']['sent']) > 4) :\n",
    "        dataNotNone[i] = (datab[0][f'{i}.pcap']['sent'][4] + datab[1][f'{i}.pcap']['sent'][4] + datab[2][f'{i}.pcap']['sent'][4] + datab[3][f'{i}.pcap']['sent'][4])/4\n",
    "    \n",
    "    \n",
    "    #if sent[0] is None\n",
    "    elif (len(datab[0][f'{i}.pcap']['sent']) <= 4) and (len(datab[1][f'{i}.pcap']['sent']) > 4) and (len(datab[2][f'{i}.pcap']['sent']) > 4) and (len(datab[3][f'{i}.pcap']['sent']) > 4) :\n",
    "        dataNotNone[i] = (datab[1][f'{i}.pcap']['sent'][4] + datab[2][f'{i}.pcap']['sent'][4] + datab[3][f'{i}.pcap']['sent'][4])/3\n",
    "\n",
    "    #if sent[1] is None\n",
    "    elif (len(datab[0][f'{i}.pcap']['sent']) > 4) and (len(datab[1][f'{i}.pcap']['sent']) <= 4) and (len(datab[2][f'{i}.pcap']['sent']) > 4) and (len(datab[3][f'{i}.pcap']['sent']) > 4) :\n",
    "        dataNotNone[i] = (datab[0][f'{i}.pcap']['sent'][4] + datab[2][f'{i}.pcap']['sent'][4] + datab[3][f'{i}.pcap']['sent'][4])/3\n",
    "\n",
    "    #if sent[2] is None\n",
    "    elif (len(datab[0][f'{i}.pcap']['sent']) > 4) and (len(datab[1][f'{i}.pcap']['sent']) > 4) and (len(datab[2][f'{i}.pcap']['sent']) <= 4) and (len(datab[3][f'{i}.pcap']['sent']) > 4) :\n",
    "        dataNotNone[i] = (datab[1][f'{i}.pcap']['sent'][4] + datab[0][f'{i}.pcap']['sent'][4] + datab[3][f'{i}.pcap']['sent'][4])/3\n",
    "\n",
    "    #if sent[3] is None\n",
    "    elif (len(datab[0][f'{i}.pcap']['sent']) > 4) and (len(datab[1][f'{i}.pcap']['sent']) > 4) and (len(datab[2][f'{i}.pcap']['sent']) > 4) and (len(datab[3][f'{i}.pcap']['sent']) <= 4) :\n",
    "        dataNotNone[i] = (datab[1][f'{i}.pcap']['sent'][4] + datab[2][f'{i}.pcap']['sent'][4] + datab[0][f'{i}.pcap']['sent'][4])/3\n",
    "    \n",
    "    \n",
    "    #if only sent[0] and sent[1] are None\n",
    "    elif (len(datab[0][f'{i}.pcap']['sent']) <= 4) and (len(datab[1][f'{i}.pcap']['sent']) <= 4) and (len(datab[2][f'{i}.pcap']['sent']) > 4) and (len(datab[3][f'{i}.pcap']['sent']) > 4) :\n",
    "        dataNotNone[i] = (datab[3][f'{i}.pcap']['sent'][4] + datab[2][f'{i}.pcap']['sent'][4])/2\n",
    "\n",
    "    #if only sent[0] and sent[2] are None\n",
    "    elif (len(datab[0][f'{i}.pcap']['sent']) <= 4) and (len(datab[1][f'{i}.pcap']['sent']) > 4) and (len(datab[2][f'{i}.pcap']['sent']) <= 4) and (len(datab[3][f'{i}.pcap']['sent']) > 4) :\n",
    "        dataNotNone[i] = (datab[3][f'{i}.pcap']['sent'][4] + datab[1][f'{i}.pcap']['sent'][4])/2\n",
    "\n",
    "    #if only sent[0] and sent[3] are None\n",
    "    elif (len(datab[0][f'{i}.pcap']['sent']) <= 4) and (len(datab[1][f'{i}.pcap']['sent']) > 4) and (len(datab[2][f'{i}.pcap']['sent']) > 4) and (len(datab[3][f'{i}.pcap']['sent']) <= 4) :\n",
    "        dataNotNone[i] = (datab[2][f'{i}.pcap']['sent'][4] + datab[1][f'{i}.pcap']['sent'][4])/2\n",
    "\n",
    "\n",
    "    #if only sent[1] and sent[2] are None\n",
    "    elif (len(datab[0][f'{i}.pcap']['sent']) > 4) and (len(datab[1][f'{i}.pcap']['sent']) <= 4) and (len(datab[2][f'{i}.pcap']['sent']) <= 4) and (len(datab[3][f'{i}.pcap']['sent']) > 4) :\n",
    "        dataNotNone[i] = (datab[3][f'{i}.pcap']['sent'][4] + datab[0][f'{i}.pcap']['sent'][4])/2\n",
    "\n",
    "    #if only sent[1] and sent[3] are None\n",
    "    elif (len(datab[0][f'{i}.pcap']['sent']) > 4) and (len(datab[1][f'{i}.pcap']['sent']) <= 4) and (len(datab[2][f'{i}.pcap']['sent']) > 4) and (len(datab[3][f'{i}.pcap']['sent']) <= 4) :\n",
    "        dataNotNone[i] = (datab[2][f'{i}.pcap']['sent'][4] + datab[0][f'{i}.pcap']['sent'][4])/2\n",
    "\n",
    "    \n",
    "    #if only sent[2] and sent[3] are None\n",
    "    elif (len(datab[0][f'{i}.pcap']['sent']) > 4) and (len(datab[1][f'{i}.pcap']['sent']) > 4) and (len(datab[2][f'{i}.pcap']['sent']) <= 4) and (len(datab[3][f'{i}.pcap']['sent']) <= 4) :\n",
    "        dataNotNone[i] = (datab[1][f'{i}.pcap']['sent'][4] + datab[0][f'{i}.pcap']['sent'][4])/2\n",
    "\n",
    "\n",
    "    #if only sent[0] is not None\n",
    "    elif (len(datab[0][f'{i}.pcap']['sent']) > 4) and (len(datab[1][f'{i}.pcap']['sent']) <= 4) and (len(datab[2][f'{i}.pcap']['sent']) <= 4) and (len(datab[3][f'{i}.pcap']['sent']) <= 4) :\n",
    "        dataNotNone[i] = datab[0][f'{i}.pcap']['sent'][4]\n",
    "                          \n",
    "    #if only sent[1] is not None\n",
    "    elif (len(datab[0][f'{i}.pcap']['sent']) <= 4) and (len(datab[1][f'{i}.pcap']['sent']) > 4) and (len(datab[2][f'{i}.pcap']['sent']) <= 4) and (len(datab[3][f'{i}.pcap']['sent']) <= 4) :\n",
    "        dataNotNone[i] = datab[1][f'{i}.pcap']['sent'][4]\n",
    "                          \n",
    "    #if only sent[2] is not None\n",
    "    elif (len(datab[0][f'{i}.pcap']['sent']) <= 4) and (len(datab[1][f'{i}.pcap']['sent']) <= 4) and (len(datab[2][f'{i}.pcap']['sent']) > 4) and (len(datab[3][f'{i}.pcap']['sent']) <= 4) :\n",
    "        dataNotNone[i] = datab[2][f'{i}.pcap']['sent'][4]\n",
    "                          \n",
    "    #if only sent[3] is not None\n",
    "    elif (len(datab[0][f'{i}.pcap']['sent']) <= 4) and (len(datab[1][f'{i}.pcap']['sent']) <= 4) and (len(datab[2][f'{i}.pcap']['sent']) <= 4) and (len(datab[3][f'{i}.pcap']['sent']) > 4) :\n",
    "        dataNotNone[i] = datab[3][f'{i}.pcap']['sent'][4]\n",
    "        \n",
    "for i in range(888, 1397):\n",
    "    #if only sent[1] and sent[3] are not None\n",
    "    if (len(datab[1][f'{i}.pcap']['sent']) > 4) and (len(datab[3][f'{i}.pcap']['sent']) > 4) :\n",
    "        dataNotNone[i] = (datab[3][f'{i}.pcap']['sent'][4] + datab[1][f'{i}.pcap']['sent'][4])/2\n",
    "        \n",
    "    #if only sent[1] is not None\n",
    "    elif (len(datab[1][f'{i}.pcap']['sent']) > 4) and (len(datab[3][f'{i}.pcap']['sent']) <= 4) :\n",
    "        dataNotNone[i] = datab[1][f'{i}.pcap']['sent'][4]\n",
    "        \n",
    "    #if only sent[3] is not None\n",
    "    elif (len(datab[1][f'{i}.pcap']['sent']) <= 4) and (len(datab[3][f'{i}.pcap']['sent']) > 4) :\n",
    "        dataNotNone[i] = datab[3][f'{i}.pcap']['sent'][4]\n",
    "\n"
   ]
  },
  {
   "cell_type": "markdown",
   "id": "c7bb64be",
   "metadata": {},
   "source": [
    "We create our bins. <br/>\n",
    "binsB contains the lengths used in the paper.<br/>\n",
    "I also chosed to see the frequency of lengths under 55 in binsA, to compare it with the paper.<br/>\n",
    "We want to discard all the lengths that correspond to the http control messages (ex : 33) so we don't want the size 33 to appear in our histogram."
   ]
  },
  {
   "cell_type": "code",
   "execution_count": 128,
   "id": "8b1f8388",
   "metadata": {},
   "outputs": [],
   "source": [
    "binsA = [35,36,37,38,39,40,41,42,43,45,46,47,48,49,50,51,52,53,54,55,56,57,58,59,60,61,62,63,64,65,66,67,68,69]\n",
    "binsB = [55,56,57,58,59,60,61,62,63,64,65,66,67,68,69,70,71,72,73,74,75,76,77,78,79,80,81,82,83,84,85,86,87,88,89,90,91,92,93]"
   ]
  },
  {
   "cell_type": "markdown",
   "id": "3374d462",
   "metadata": {},
   "source": [
    "### Histogram with the binsA's bins"
   ]
  },
  {
   "cell_type": "code",
   "execution_count": 127,
   "id": "3eb1439f",
   "metadata": {},
   "outputs": [
    {
     "data": {
      "text/plain": [
       "Text(0, 0.5, 'Frequency')"
      ]
     },
     "execution_count": 127,
     "metadata": {},
     "output_type": "execute_result"
    },
    {
     "data": {
      "image/png": "[encoded data removed]",
      "text/plain": [
       "<Figure size 432x288 with 1 Axes>"
      ]
     },
     "metadata": {
      "needs_background": "light"
     },
     "output_type": "display_data"
    }
   ],
   "source": [
    "plt.hist(dataNotNone, bins=binsA, edgecolor='white', density = True)\n",
    "plt.title('Histogram for the fourth TLS record length in the LOC1 dataset for the GLOBAL.json file')\n",
    "plt.xlabel('Fourth TLS record size (bytes)')\n",
    "plt.ylabel('Frequency')"
   ]
  },
  {
   "cell_type": "markdown",
   "id": "447b90c8",
   "metadata": {},
   "source": [
    "### Histogram with the binsB's bins"
   ]
  },
  {
   "cell_type": "code",
   "execution_count": 123,
   "id": "d83bf3b1",
   "metadata": {},
   "outputs": [
    {
     "data": {
      "text/plain": [
       "Text(0, 0.5, 'Frequency')"
      ]
     },
     "execution_count": 123,
     "metadata": {},
     "output_type": "execute_result"
    },
    {
     "data": {
      "image/png": "[encoded data removed]",
      "text/plain": [
       "<Figure size 432x288 with 1 Axes>"
      ]
     },
     "metadata": {
      "needs_background": "light"
     },
     "output_type": "display_data"
    }
   ],
   "source": [
    "plt.hist(dataNotNone, bins=binsB, edgecolor='white', density = True)\n",
    "plt.title('Histogram for the fourth TLS record length in the LOC1 dataset for the GLOBAL.json file')\n",
    "plt.xlabel('Fourth TLS record size (bytes)')\n",
    "plt.ylabel('Frequency')"
   ]
  },
  {
   "cell_type": "markdown",
   "id": "ac661743",
   "metadata": {},
   "source": [
    "With the bins that they used in the paper, we still don't have the same histogram they had. \n",
    "This is probably the result of : <br/> \n",
    "- the fact that I only used samples from the 01/11/18, so I don't have enough data \n",
    "<br/>\n",
    "- the fact that I have computed the average of the values for the same pcap, which could have faken the values\n",
    "<br/><br/>\n",
    "In fact, we can see on the histogram with the binsA's bins that there's a lot of different lengths with a great frequency around the size \"43\" whereas on the paper these sizes were around 60 bytes.<br/>\n",
    "Moreover, we don't have any packet that have a size of 88 bytes here whereas they seem to appear a lot on the paper.\n"
   ]
  }
 ],
 "metadata": {
  "kernelspec": {
   "display_name": "Python 3",
   "language": "python",
   "name": "python3"
  },
  "language_info": {
   "codemirror_mode": {
    "name": "ipython",
    "version": 3
   },
   "file_extension": ".py",
   "mimetype": "text/x-python",
   "name": "python",
   "nbconvert_exporter": "python",
   "pygments_lexer": "ipython3",
   "version": "3.8.8"
  }
 },
 "nbformat": 4,
 "nbformat_minor": 5
}
